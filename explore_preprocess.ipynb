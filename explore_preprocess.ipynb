{
  "nbformat": 4,
  "nbformat_minor": 0,
  "metadata": {
    "colab": {
      "provenance": []
    },
    "kernelspec": {
      "name": "python3",
      "display_name": "Python 3"
    },
    "language_info": {
      "name": "python"
    }
  },
  "cells": [
    {
      "cell_type": "markdown",
      "source": [
        "Data: http://www.manythings.org/anki/. \n",
        "Inspiration from: https://towardsdatascience.com/language-translation-with-rnns-d84d43b40571. \n"
      ],
      "metadata": {
        "id": "jTC4r2Ugp1mx"
      }
    },
    {
      "cell_type": "code",
      "source": [
        "import csv\n",
        "import string\n",
        "import pandas as pd"
      ],
      "metadata": {
        "id": "foNoiBGJ0BrF"
      },
      "execution_count": 91,
      "outputs": []
    },
    {
      "cell_type": "code",
      "execution_count": 92,
      "metadata": {
        "id": "dgtC_z-zprFZ"
      },
      "outputs": [],
      "source": [
        "# Load the data\n",
        "filename = \"/content/drive/MyDrive/spa.txt\"\n",
        "\n",
        "en = []\n",
        "es = []\n",
        "with open(filename, encoding='utf-8') as file:\n",
        "    es_en_reader = csv.reader(file, delimiter='\\t')\n",
        "    for phrase in es_en_reader:\n",
        "        en.append(phrase[0])\n",
        "        es.append(phrase[1])\n",
        "file.close()"
      ]
    },
    {
      "cell_type": "markdown",
      "source": [
        "How do the data look?"
      ],
      "metadata": {
        "id": "eqfVwy3SyN13"
      }
    },
    {
      "cell_type": "code",
      "source": [
        "print(en[0:10]); print(es[0:10])\n",
        "print(en[-2:]); print(es[-2:])\n",
        "print(len(es))"
      ],
      "metadata": {
        "colab": {
          "base_uri": "https://localhost:8080/"
        },
        "id": "8gGEIYskGAFb",
        "outputId": "6aa2359c-5c7d-4cf2-91fc-74799afa7812"
      },
      "execution_count": 93,
      "outputs": [
        {
          "output_type": "stream",
          "name": "stdout",
          "text": [
            "['Go.', 'Go.', 'Go.', 'Go.', 'Hi.', 'Run!', 'Run!', 'Run!', 'Run!', 'Run.']\n",
            "['Ve.', 'Vete.', 'Vaya.', 'Váyase.', 'Hola.', '¡Corre!', '¡Corran!', '¡Corra!', '¡Corred!', 'Corred.']\n",
            "['It may be impossible to get a completely error-free corpus due to the nature of this kind of collaborative effort. However, if we encourage members to contribute sentences in their own languages rather than experiment in languages they are learning, we might be able to minimize errors.', \"One day, I woke up to find that God had put hair on my face. I shaved it off. The next day, I found that God had put it back on my face, so I shaved it off again. On the third day, when I found that God had put hair back on my face again, I decided to let God have his way. That's why I have a beard.\"]\n",
            "['Puede que sea imposible obtener un corpus completamente libre de errores debido a la naturaleza de este tipo de esfuerzo de colaboración. Sin embargo, si animamos a los miembros a contribuir frases en sus propios idiomas en lugar de experimentar con los idiomas que están aprendiendo, podríamos ser capaces de minimizar los errores.', 'Un día, me desperté y vi que Dios me había puesto pelo en la cara. Me lo afeité. Al día siguiente, vi que Dios me lo había vuelto a poner en la cara, así que me lo afeité otra vez. Al tercer día, cuando vi que Dios me había puesto pelo en la cara de nuevo, decidí que Dios se saliera con la suya. Por eso tengo barba.']\n",
            "138440\n"
          ]
        }
      ]
    },
    {
      "cell_type": "markdown",
      "source": [
        "The data set starts with short phrases (a single word) up to some very long sentences. 138,440 phrases and their translations in total. \n"
      ],
      "metadata": {
        "id": "9Bt1ILo2w4K-"
      }
    },
    {
      "cell_type": "code",
      "source": [
        "# Create a dataframe to store the lengths of phrases\n",
        "en_len = []; es_len = []\n",
        "for phrase in en:\n",
        "    en_len.append(len(phrase.split()))\n",
        "for phrase in es:\n",
        "    es_len.append(len(phrase.split()))\n",
        "\n",
        "lengths = pd.DataFrame({'en':en_len, 'es':es_len}) "
      ],
      "metadata": {
        "id": "R1aAm3mTF8oQ"
      },
      "execution_count": 94,
      "outputs": []
    },
    {
      "cell_type": "code",
      "source": [
        "lengths.plot(kind='hist', bins = 50, alpha = 0.5) #, subplots = True)"
      ],
      "metadata": {
        "colab": {
          "base_uri": "https://localhost:8080/",
          "height": 282
        },
        "id": "S3wLibuoQcxK",
        "outputId": "483f3536-c294-4606-975d-b2e4add335f8"
      },
      "execution_count": 95,
      "outputs": [
        {
          "output_type": "execute_result",
          "data": {
            "text/plain": [
              "<matplotlib.axes._subplots.AxesSubplot at 0x7efc1c807970>"
            ]
          },
          "metadata": {},
          "execution_count": 95
        },
        {
          "output_type": "display_data",
          "data": {
            "text/plain": [
              "<Figure size 432x288 with 1 Axes>"
            ],
            "image/png": "[encoded data removed]"
          },
          "metadata": {
            "needs_background": "light"
          }
        }
      ]
    },
    {
      "cell_type": "code",
      "source": [
        "print(\"Max phrase length (en): \", max(lengths[\"en\"]))\n",
        "print(\"Max phrase length (es): \", max(lengths[\"es\"]))"
      ],
      "metadata": {
        "colab": {
          "base_uri": "https://localhost:8080/"
        },
        "id": "2j3IFMb1UdvG",
        "outputId": "6c4016e3-654b-4b8a-9a02-276ae93ae8c4"
      },
      "execution_count": 96,
      "outputs": [
        {
          "output_type": "stream",
          "name": "stdout",
          "text": [
            "Max phrase length (en):  70\n",
            "Max phrase length (es):  68\n"
          ]
        }
      ]
    },
    {
      "cell_type": "markdown",
      "source": [
        "Lengths of phrases are pretty similar between English and Spanish. Some phrases in English are longer than their Spanish translation - likely due to the fact that in Spanish, pronouns are often omitted.\n",
        "\n",
        "How many unique words are present for each language? For the sake of this calculation, remove the punctuation and convert all words to lower case:"
      ],
      "metadata": {
        "id": "-2f75Zb4zz5K"
      }
    },
    {
      "cell_type": "code",
      "source": [
        "# Convert to lower case\n",
        "for phrase in range(len(es)):\n",
        "    es[phrase] = es[phrase].lower()\n",
        "    en[phrase] = en[phrase].lower()"
      ],
      "metadata": {
        "id": "pjtMGy_U6zNo"
      },
      "execution_count": 97,
      "outputs": []
    },
    {
      "cell_type": "code",
      "source": [
        "# Remove punctuation\n",
        "punctuation = str(string.punctuation + '¡' + '¿')\n",
        "transtab = str.maketrans('', '', punctuation)\n",
        "\n",
        "en[:] = [phrase.translate(transtab) for phrase in en]\n",
        "es[:] = [phrase.translate(transtab) for phrase in es]\n"
      ],
      "metadata": {
        "id": "GnGqWOZrA3te"
      },
      "execution_count": 98,
      "outputs": []
    },
    {
      "cell_type": "code",
      "source": [
        "# Unique words\n",
        "en_vocab = [phrase.split() for phrase in en]\n",
        "es_vocab = [phrase.split() for phrase in es]\n",
        "en_vocab_list = [word for phrase in en_vocab for word in phrase]\n",
        "es_vocab_list = [word for phrase in es_vocab for word in phrase]\n",
        "#print(en_vocab_list[:100])\n",
        "print('Vocab size (en): %d' % len(set(en_vocab_list)))\n",
        "print('Vocab size (es): %d' % len(set(es_vocab_list)))"
      ],
      "metadata": {
        "colab": {
          "base_uri": "https://localhost:8080/"
        },
        "id": "FHKhzR8oWjWt",
        "outputId": "506e15a1-fb22-42ae-eff6-dff8ac2ef302"
      },
      "execution_count": 99,
      "outputs": [
        {
          "output_type": "stream",
          "name": "stdout",
          "text": [
            "Vocab size (en): 14408\n",
            "Vocab size (es): 27962\n"
          ]
        }
      ]
    },
    {
      "cell_type": "markdown",
      "source": [
        "The Spanish text has far more unique words - in fact, there are 46 to 47 distinct verb forms in Spanish, compared with only four or five in English."
      ],
      "metadata": {
        "id": "KYcBiziE86oC"
      }
    }
  ]
}
